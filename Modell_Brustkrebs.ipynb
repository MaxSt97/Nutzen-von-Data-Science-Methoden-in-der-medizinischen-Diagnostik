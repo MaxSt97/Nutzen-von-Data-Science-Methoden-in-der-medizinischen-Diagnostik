{
  "cells": [
    {
      "cell_type": "markdown",
      "metadata": {
        "id": "view-in-github",
        "colab_type": "text"
      },
      "source": [
        "<a href=\"https://colab.research.google.com/github/MaxSt97/Nutzen-von-Data-Science-Methoden-in-der-medizinischen-Diagnostik/blob/main/Modell_Brustkrebs.ipynb\" target=\"_parent\"><img src=\"https://colab.research.google.com/assets/colab-badge.svg\" alt=\"Open In Colab\"/></a>"
      ]
    },
    {
      "cell_type": "code",
      "execution_count": null,
      "metadata": {
        "id": "f9HzGuZWliJC"
      },
      "outputs": [],
      "source": [
        "#Import der notwendigen Bibliotheken.\n",
        "import pandas as pd\n",
        "import tensorflow as tf\n",
        "from sklearn.model_selection import train_test_split"
      ]
    },
    {
      "cell_type": "code",
      "execution_count": null,
      "metadata": {
        "id": "pqm5V_NUovJh"
      },
      "outputs": [],
      "source": [
        "#Die gewünschten Daten werden eingelesen und dem DataFrame zugeordnet.\n",
        "df = pd.read_csv('data.csv')"
      ]
    },
    {
      "cell_type": "code",
      "execution_count": null,
      "metadata": {
        "id": "_wkIf7sn-Y-i"
      },
      "outputs": [],
      "source": [
        "#Ersetzen der textuellen Werte \"M\" und \"B\", da das Modell nur numerische Werte verarbeiten kann.\n",
        "df['diagnosis']=df['diagnosis'].replace(['M'], 1)\n",
        "df['diagnosis']=df['diagnosis'].replace(['B'], 0)"
      ]
    },
    {
      "cell_type": "code",
      "execution_count": null,
      "metadata": {
        "id": "6XBgXgRxJIpo"
      },
      "outputs": [],
      "source": [
        "\"\"\"\n",
        "Entfernen der letzten Spalte aus dem DataFrame da diese keine Daten enthält. Außerdem wurde die Spalte id entfernt.\n",
        "Diese enthält eine Nummerierung welche die Ergebnisse des Modells verfälschen würde.\n",
        "\"\"\"\n",
        "df = df.iloc[: , :-1]\n",
        "df = df.drop(\"id\",axis=1)"
      ]
    },
    {
      "cell_type": "code",
      "execution_count": null,
      "metadata": {
        "id": "1Yr1qppwo3La"
      },
      "outputs": [],
      "source": [
        "#Unser geladenes und bereinigtes Dataframe wird unserer Einflussvariablen x zugeordnet, wobei die Spalte diagnosis entfernt wird.\n",
        "x = df.drop(columns=[\"diagnosis\"])"
      ]
    },
    {
      "cell_type": "code",
      "execution_count": null,
      "metadata": {
        "id": "nhiD0Ri_o70l"
      },
      "outputs": [],
      "source": [
        "#Unser geladenes und bereinigtes Dataframe wird unserer Zielvariablen y zugeordnet, wobei nur die Spalte diagnosis beibehalten wird.\n",
        "y = df[\"diagnosis\"]"
      ]
    },
    {
      "cell_type": "code",
      "execution_count": null,
      "metadata": {
        "id": "eWmgPSZzpDKD"
      },
      "outputs": [],
      "source": [
        "\"\"\"\n",
        "Dataframe wird in einen Trainings- sowie Testdatensatz aufgeteilt.\n",
        "Letzterer wird mit 10% des ursprünglichen Datensatzgröße bemessen.\n",
        "\"\"\"\n",
        "\n",
        "x_train, x_test, y_train, y_test = train_test_split(x, y, test_size=0.1)"
      ]
    },
    {
      "cell_type": "code",
      "execution_count": null,
      "metadata": {
        "id": "n92IqYcypG4p"
      },
      "outputs": [],
      "source": [
        "#Initialisierne des Modells.\n",
        "model = tf.keras.models.Sequential()"
      ]
    },
    {
      "cell_type": "code",
      "execution_count": null,
      "metadata": {
        "id": "Fn47Ac1upJL3"
      },
      "outputs": [],
      "source": [
        "#Hinzufügen der einzelnen Schichten zum neuronalen Netzwerk. Das Design der Eingabeschicht orientiert sich an dem genutzten Datensatz.\n",
        "model.add(tf.keras.layers.Dense(256, input_shape=(x_train.shape[1],), activation='sigmoid'))\n",
        "model.add(tf.keras.layers.Dense(1, activation='sigmoid'))"
      ]
    },
    {
      "cell_type": "code",
      "execution_count": null,
      "metadata": {
        "id": "Tt0VciSIuHn0"
      },
      "outputs": [],
      "source": [
        "#Optimierungsfunktion, Verlustfunktion und Metrik werden definiert.\n",
        "model.compile(optimizer='adam', loss='binary_crossentropy', metrics=['accuracy'])"
      ]
    },
    {
      "cell_type": "code",
      "source": [
        "\"\"\"\n",
        "Modell wird trainiert. Mit epochs wird festgelegt, wie oft das Modell die Eingabedaten komplett verarbeitet. In unserem Fall 200 mal.\n",
        "An dieser Stelle versucht das Modell einen Zusammenhang zwischen der unabhängigen Variable x und der abhängigen Variable y herzustellen.\n",
        "\"\"\"\n",
        "model.fit(x_train, y_train,epochs=200)"
      ],
      "metadata": {
        "id": "J25ee1kljvoy"
      },
      "execution_count": null,
      "outputs": []
    }
  ],
  "metadata": {
    "colab": {
      "collapsed_sections": [],
      "name": "Kopie von Modell Brustkrebs.ipynb",
      "provenance": [],
      "authorship_tag": "ABX9TyNy3zAVQcd7iEcBJ3V2SSE7",
      "include_colab_link": true
    },
    "kernelspec": {
      "display_name": "Python 3",
      "name": "python3"
    },
    "language_info": {
      "name": "python"
    }
  },
  "nbformat": 4,
  "nbformat_minor": 0
}